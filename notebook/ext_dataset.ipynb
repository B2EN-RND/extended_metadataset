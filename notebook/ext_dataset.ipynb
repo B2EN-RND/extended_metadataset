{
 "cells": [
  {
   "cell_type": "code",
   "execution_count": 117,
   "id": "736a81a9-749b-434f-935c-02fa2ac1293d",
   "metadata": {},
   "outputs": [],
   "source": [
    "import pandas as pd\n",
    "\n",
    "data = pd.read_csv(\"IITP_AI허브 데이터 수집.csv\", encoding = 'utf-8')"
   ]
  },
  {
   "cell_type": "code",
   "execution_count": null,
   "id": "8377c98d-a5f5-4d1b-8238-e99e44f79358",
   "metadata": {
    "scrolled": true
   },
   "outputs": [],
   "source": [
    "data.head(30)"
   ]
  },
  {
   "cell_type": "code",
   "execution_count": null,
   "id": "a4f4364c-5c20-4806-b555-6f7d4252c728",
   "metadata": {},
   "outputs": [],
   "source": [
    "print(data.shape)\n",
    "data"
   ]
  },
  {
   "cell_type": "code",
   "execution_count": null,
   "id": "f15fb28c-5405-47c5-b5ce-caf19cc8c5be",
   "metadata": {},
   "outputs": [],
   "source": [
    "df_unique = data.drop_duplicates(subset=[\"컬럼명\", \"설명\"])\n",
    "df_unique"
   ]
  },
  {
   "cell_type": "code",
   "execution_count": null,
   "id": "297c60f9-7237-400e-84b7-15d95a3beeb3",
   "metadata": {
    "scrolled": true
   },
   "outputs": [],
   "source": [
    "df_unique[df_unique['데이터명'].notnull()]"
   ]
  },
  {
   "cell_type": "code",
   "execution_count": null,
   "id": "7da4d871-167e-43e4-8113-7b1468754ddd",
   "metadata": {},
   "outputs": [],
   "source": [
    "tuple_list = list(zip(data['컬럼명'], data['설명']))\n",
    "tuple_list"
   ]
  },
  {
   "cell_type": "markdown",
   "id": "cca10496-7a65-40b3-999c-34347761ce51",
   "metadata": {},
   "source": [
    "### 챗지피티1"
   ]
  },
  {
   "cell_type": "markdown",
   "id": "8fd83441-2d3b-47cb-9622-1839ab143222",
   "metadata": {},
   "source": [
    "너는 전체 컬럼명에서 특징이 비슷한 컬럼명들을 군집화하여 분류를 할거야. 아래의 규칙을 따라야해\n",
    "\n",
    "1. 데이터는 [('컬럼명', '설명'), ...]으로 구성되어있다.\n",
    "2. 표준화된 컬럼명의 수는 20~30개 내외로 할 것\n",
    "3. 기타 컬럼을 만들어서 군집화되지 않은 컬럼명은 기타에 포함할 것.\n",
    "4. 표준화된 컬럼명을 [('표준화된 컬럼명1', '컬럼설명'), ('컬럼명2', '컬럼설명')]의 리스트 타입으로 결과를 내라\n",
    "5. 한국어 컬럼명으로 만들 것"
   ]
  },
  {
   "cell_type": "code",
   "execution_count": null,
   "id": "49fbde8f-417f-4b4a-8787-b40891480229",
   "metadata": {
    "scrolled": true
   },
   "outputs": [],
   "source": [
    "from openai import OpenAI\n",
    "\n",
    "client = OpenAI(api_key=\"\")\n",
    "\n",
    "def gpt4o(client, tuple_list):\n",
    "    completion = client.chat.completions.create(\n",
    "        model='gpt-4o',\n",
    "        seed=2024,\n",
    "        messages=[\n",
    "            {\n",
    "                \"role\": \"system\", \n",
    "                \"content\": \"\"\"\n",
    "                    You will group and classify column names with similar features in the entire column name. You should follow the rules below\n",
    "                    \n",
    "                    1. The data consists of [( 'column name', 'explanation',...]]\n",
    "                    2. The number of standardized column names shall be between 20 and 30\n",
    "                    3. Create other columns and include non-collected column names in others\n",
    "                    4. Results in the list type of standardized column names [(Standardized column name 1', 'column description'), ('Standardized column name 2', 'column description'),...]\n",
    "                    5. Make it a Korean column name\n",
    "                \"\"\"\n",
    "            },\n",
    "            {\n",
    "                \"role\": \"user\", \n",
    "                \"content\": f\"\"\"\n",
    "                주어진 데이터를 이용하여 표준화된 컬럼명으로 군집화하고, 부가 설명없이 결과만 얘기해줘 \n",
    "                - 데이터: '{tuple_list}'\n",
    "                \"\"\"\n",
    "            }\n",
    "        ]\n",
    "    )\n",
    "    return completion.choices[0].message.content\n",
    "\n",
    "result = gpt4o(client, tuple_list)\n",
    "result"
   ]
  },
  {
   "cell_type": "code",
   "execution_count": null,
   "id": "e07d88a1-eb79-4174-b1b5-a6b4496f26e8",
   "metadata": {},
   "outputs": [],
   "source": [
    "result = \"[('카테고리','클래스및라벨관련정보'),('아이디', '식별자를가리키는정보'),('이름','라벨및라벨의이름'),('이미지','이미지관련정보및속성'),('어노테이션','어노테이션정보및속성'),('바운딩박스','바운딩박스정보및좌표'),('속성','객체및라벨관련속성값'),('포인트','포인트정보및키포인트'),('위치','위치및좌표관련정보'),('경로','파일및데이터경로'),('경로_정보','파일및데이터경로정보'),('미디어','미디어관련정보및속성'),('라이센스','라이센스정보및저작권'),('수집정보','데이터수집및촬영정보'),('기후','수집환경및기후정보'),('장비정보','장비및센서정보'),('가공정보','가공및처리된정보'),('로봇정보','로봇및관련정보'),('카메라정보','카메라정보및파라미터'),('클래스','클래스관련정보및특성'),('비디오정보','비디오및동영상정보'),('고객정보','고객및사용자정보'),('행동정보','사용자및로봇의행동및반응정보'),('인터랙션','인터랙션정보및상태'),('상태정보','상태및상태관련정보'),('데이터정보','일반데이터및메타정보'),('파일정보','파일관련정보'),('기타','기타다양한정보및속성')]\"\n",
    "list_data = ast.literal_eval(result)\n",
    "list_data"
   ]
  },
  {
   "cell_type": "code",
   "execution_count": null,
   "id": "4a1a0bb0-a976-4856-8ccb-3045c0ed373c",
   "metadata": {},
   "outputs": [],
   "source": [
    "[('카테고리', '카테고리관련정보'),\n",
    " ('아이디', '식별자를가리키는정보'),\n",
    " ('이름', '이름관련정보'),\n",
    " ('이미지', '이미지와관련된정보'),\n",
    " ('이미지_번호', '이미지번호정보'),\n",
    " ('이미지_크기', '이미지의크기정보'),\n",
    " ('이미지_파일명', '이미지파일명정보'),\n",
    " ('어노테이션', '어노테이션관련정보'),\n",
    " ('어노테이션_아이디', '어노테이션식별자'),\n",
    " ('어노테이션_포인트', '어노테이션포인트위치'),\n",
    " ('라벨', '라벨관련정보'),\n",
    " ('라벨_속성', '라벨속성정보'),\n",
    " ('라벨_세부정보', '라벨세부정보'),\n",
    " ('세그멘테이션', '세그멘테이션정보'),\n",
    " ('바운딩박스', '바운딩박스정보'),\n",
    " ('포인트', '포인트관련정보'),\n",
    " ('파일', '파일관련정보'),\n",
    " ('경로', '경로정보'),\n",
    " ('어노테이션_종류', '어노테이션종류'),\n",
    " ('위치', '위치관련정보'),\n",
    " ('회전', '회전관련정보'),\n",
    " ('스케일', '스케일관련정보'),\n",
    " ('로봇', '로봇관련정보'),\n",
    " ('카메라', '카메라관련정보'),\n",
    " ('데이터', '데이터관련정보'),\n",
    " ('수집', '수집과관련된정보'),\n",
    " ('센서', '센서관련정보'),\n",
    " ('클래스', '클래스정보'),\n",
    " ('객체', '객체정보'),\n",
    " ('트랜스포메이션', '트랜스포메이션정보'),\n",
    " ('기타', '기타정보')]"
   ]
  },
  {
   "cell_type": "code",
   "execution_count": null,
   "id": "92d0aafb-e951-49d2-af6f-2eca3ab8ec1b",
   "metadata": {},
   "outputs": [],
   "source": [
    "import ast\n",
    "result= result.replace(\"\\n\", \" \").replace(\" \",\"\")\n",
    "list_data = ast.literal_eval(result)\n",
    "list_data\n"
   ]
  },
  {
   "cell_type": "code",
   "execution_count": null,
   "id": "9b4ff803-c5a9-4b0e-b5c8-1ebf061d811e",
   "metadata": {
    "scrolled": true
   },
   "outputs": [],
   "source": [
    "# 데이터\n",
    "data = [\n",
    "    ('카테고리', '클래스및라벨관련정보'),\n",
    "    ('식별자', '다양한식별번호'),\n",
    "    ('이름', '라벨및라벨의이름'),\n",
    "    ('이미지', '이미지관련정보및속성'),\n",
    "    ('어노테이션', '어노테이션정보및속성'),\n",
    "    ('바운딩박스', '바운딩박스정보및좌표'),\n",
    "    ('속성', '객체및라벨관련속성값'),\n",
    "    ('포인트', '포인트정보및키포인트'),\n",
    "    ('위치', '위치및좌표관련정보'),\n",
    "    ('경로', '파일및데이터경로'),\n",
    "    ('경로_정보', '파일및데이터경로정보'),\n",
    "    ('미디어', '미디어관련정보및속성'),\n",
    "    ('라이센스', '라이센스정보및저작권'),\n",
    "    ('수집정보', '데이터수집및촬영정보'),\n",
    "    ('기후', '수집환경및기후정보'),\n",
    "    ('장비정보', '장비및센서정보'),\n",
    "    ('가공정보', '가공및처리된정보'),\n",
    "    ('로봇정보', '로봇및관련정보'),\n",
    "    ('카메라정보', '카메라정보및파라미터'),\n",
    "    ('클래스', '클래스관련정보및특성'),\n",
    "    ('비디오정보', '비디오및동영상정보'),\n",
    "    ('고객정보', '고객및사용자정보'),\n",
    "    ('행동정보', '사용자및로봇의행동및반응정보'),\n",
    "    ('인터랙션', '인터랙션정보및상태'),\n",
    "    ('상태정보', '상태및상태관련정보'),\n",
    "    ('데이터정보', '일반데이터및메타정보'),\n",
    "    ('파일정보', '파일관련정보'),\n",
    "    ('기타', '기타다양한정보및속성')\n",
    "]\n",
    "\n",
    "# 규칙 기반 표 생성\n",
    "result = []\n",
    "for meta_item, meta_definition in data:\n",
    "    if \"라벨\" in meta_definition or \"클래스\" in meta_definition:\n",
    "        category = \"데이터 분석 지원\"\n",
    "        standard = \"표준\"\n",
    "    elif \"이미지\" in meta_definition or \"바운딩박스\" in meta_definition or \"위치\" in meta_definition or \"포인트\" in meta_definition:\n",
    "        category = \"데이터 수집\"\n",
    "        standard = \"표준\"\n",
    "    elif \"센서\" in meta_definition or \"로봇\" in meta_definition or \"장비\" in meta_definition:\n",
    "        category = \"데이터 연관 관계 강화\"\n",
    "        standard = \"확장\"\n",
    "    elif \"기타\" in meta_definition or \"일반\" in meta_definition:\n",
    "        category = \"기타 정보\"\n",
    "        standard = \"확장\"\n",
    "    else:\n",
    "        category = \"기타 정보\"\n",
    "        standard = \"확장\"\n",
    "    \n",
    "    # 수정된 메타항목 추가 (예: 경로_정보 -> 데이터 경로 정보)\n",
    "    updated_meta_item = meta_item.replace(\"_\", \" \")\n",
    "    result.append((category, updated_meta_item, standard, meta_definition))\n",
    "\n",
    "# 출력\n",
    "import pandas as pd\n",
    "df = pd.DataFrame(result, columns=[\"카테고리\", \"메타항목\", \"표준/확장\", \"메타정의\"])\n",
    "df\n"
   ]
  },
  {
   "cell_type": "code",
   "execution_count": null,
   "id": "ef85923a-e29a-47ac-86ea-602317e5b246",
   "metadata": {},
   "outputs": [],
   "source": []
  },
  {
   "cell_type": "markdown",
   "id": "e1cdc8b5-7983-4fd2-b73c-9be25ba40b2e",
   "metadata": {},
   "source": [
    "### 챗지피티 2"
   ]
  },
  {
   "cell_type": "markdown",
   "id": "dc63a16d-cb75-4f13-ab3d-15809231292d",
   "metadata": {},
   "source": [
    "너는 새로 들어온 컬럼명을 표준화된 컬럼명으로 매칭 시켜야해\n",
    "\n",
    "1. 새로 들어온 컬럼명은 ('컬럼명','설명')으로 구성되어 있다.\n",
    "2. 표준화된 컬럼명리스트는 ('표준화된 컬럼명', '컬럼 설명')으로 구성되어 있다.\n",
    "3. 컬럼명과 설명을 보고 특징을 파악하여 표준화된 컬럼명에 매칭을 해라.\n",
    "4. 표준화된 컬럼명에 적절하게 매칭되지 않는다면 '기타'컬럼명에 매칭을 해라\n",
    "5. (\"표준화된 컬럼명\", \"새로 들어온 컬럼명\")의 튜플 타입으로 결과를 내라"
   ]
  },
  {
   "cell_type": "code",
   "execution_count": null,
   "id": "2726ddb0-0d1d-4029-be9f-dd3e2367eed1",
   "metadata": {},
   "outputs": [],
   "source": [
    "data_dict = {key: [] for key, _ in list_data}\n",
    "\n",
    "def matching(client, list_data, new_data):\n",
    "    completion = client.chat.completions.create(\n",
    "        model='gpt-4o',\n",
    "        seed=2024,\n",
    "        messages=[\n",
    "            {\n",
    "                \"role\": \"system\", \n",
    "                \"content\": \"\"\"\n",
    "                    You have to match the new column name with the standardized column name\n",
    "\n",
    "                    1. The new column name consists of ('column name', 'explanation').\n",
    "                    2. The standardized column name list consists of (\"standardized column name\", \"column description\").\n",
    "                    3. Look at the column name and description to identify the characteristics and match them to the standardized column name.\n",
    "                    4. If it doesn't match the standardized column name properly, match it to the 'other' column name\n",
    "                    5. Results in the tuple type of (\"standardized column name\", \"new column name\")\n",
    "                \"\"\"\n",
    "            },\n",
    "            {\n",
    "                \"role\": \"user\", \n",
    "                \"content\": f\"\"\"\n",
    "                새로운 데이터를 표준화된 컬럼명리스트중 하나에 매칭시키고, 부가 설명없이 결과만 얘기해줘 \n",
    "                - 표준화된 컬럼명리스트 : '{list_data}'\n",
    "\n",
    "                \n",
    "                - 새로운 데이터: '{new_data}'\n",
    "                \"\"\"\n",
    "            }\n",
    "        ]\n",
    "    )\n",
    "    return completion.choices[0].message.content\n",
    "\n",
    "for i in range(len(tuple_list)):\n",
    "    new_data = tuple_list[i]\n",
    "    try:\n",
    "        result_match = matching(client, list_data, new_data)\n",
    "        ttt = ast.literal_eval(result_match)\n",
    "        if ttt[0] in data_dict:\n",
    "            data_dict[ttt[0]].append(ttt[1])\n",
    "    except:\n",
    "        print(\"오류 : \", result_match) \n",
    "    \n",
    "data_dict"
   ]
  },
  {
   "cell_type": "code",
   "execution_count": null,
   "id": "2ebbd90f-fdae-412c-9b6a-7bdffef4bc39",
   "metadata": {},
   "outputs": [],
   "source": [
    "data_dict"
   ]
  },
  {
   "cell_type": "code",
   "execution_count": null,
   "id": "5a4c73a1-3d0b-4708-ad8e-a87a176982d7",
   "metadata": {},
   "outputs": [],
   "source": []
  },
  {
   "cell_type": "code",
   "execution_count": null,
   "id": "0612ca16-cf7c-4ffd-a952-eaad96344ced",
   "metadata": {},
   "outputs": [],
   "source": [
    "for k,v in data_dict.items():\n",
    "    print(k, len(v))"
   ]
  },
  {
   "cell_type": "code",
   "execution_count": null,
   "id": "3c845ad7-5f81-4d50-b0cb-df246757d391",
   "metadata": {},
   "outputs": [],
   "source": []
  },
  {
   "cell_type": "markdown",
   "id": "4059e7d2-84b2-41cd-be3f-75d4ad4e5b78",
   "metadata": {},
   "source": [
    "### 클러스터링  (컬럼명 + 설명 결합)"
   ]
  },
  {
   "cell_type": "code",
   "execution_count": null,
   "id": "ea4719b8-b40b-47f5-876f-d266e4ceae1b",
   "metadata": {
    "scrolled": true
   },
   "outputs": [],
   "source": [
    "from sklearn.feature_extraction.text import TfidfVectorizer\n",
    "from sklearn.metrics.pairwise import cosine_similarity\n",
    "from sklearn.cluster import KMeans\n",
    "import pandas as pd\n",
    "\n",
    "\n",
    "# 1. 텍스트 전처리 (컬럼명 + 설명 결합)\n",
    "texts = [f\"{col} {desc}\" for col, desc in tuple_list]\n",
    "\n",
    "# 2. 텍스트 임베딩 (TF-IDF)\n",
    "vectorizer = TfidfVectorizer()\n",
    "X = vectorizer.fit_transform(texts)\n",
    "\n",
    "# 3. 코사인 유사도 계산 (참고용)\n",
    "cos_sim_matrix = cosine_similarity(X)\n",
    "cos_sim_df = pd.DataFrame(cos_sim_matrix, columns=[col for col, _ in tuple_list], index=[col for col, _ in tuple_list])\n",
    "print(\"코사인 유사도 행렬:\")\n",
    "print(cos_sim_df)\n",
    "\n",
    "# 4. K-Means Clustering\n",
    "num_clusters = 28  # 클러스터 개수\n",
    "kmeans = KMeans(n_clusters=num_clusters, random_state=42)\n",
    "kmeans.fit(X)\n",
    "\n",
    "# 5. 결과 정리\n",
    "clusters = kmeans.labels_\n",
    "result = pd.DataFrame({\"컬럼명\": [col for col, _ in tuple_list], \"설명\": [desc for _, desc in tuple_list], \"클러스터\": clusters})\n",
    "print(\"\\n군집화 결과:\")\n",
    "print(result)\n",
    "\n",
    "# 6. 클러스터별 데이터 그룹화\n",
    "grouped = result.groupby(\"클러스터\")\n",
    "for cluster_id, group in grouped:\n",
    "    print(f\"\\n클러스터 {cluster_id}:\")\n",
    "    print(group)\n"
   ]
  },
  {
   "cell_type": "code",
   "execution_count": null,
   "id": "05ba310d-4a6c-4e1c-adbb-daf123918836",
   "metadata": {
    "scrolled": true
   },
   "outputs": [],
   "source": [
    "texts"
   ]
  },
  {
   "cell_type": "markdown",
   "id": "f2a95d02-22ad-4fba-8d6b-a67a207154d0",
   "metadata": {},
   "source": [
    "### 클러스터링 (설명만)"
   ]
  },
  {
   "cell_type": "code",
   "execution_count": null,
   "id": "1ab71f36-d209-4ef9-80fe-7f65b76917a5",
   "metadata": {
    "scrolled": true
   },
   "outputs": [],
   "source": [
    "from sklearn.feature_extraction.text import TfidfVectorizer\n",
    "from sklearn.metrics.pairwise import cosine_similarity\n",
    "from sklearn.cluster import KMeans\n",
    "import pandas as pd\n",
    "\n",
    "\n",
    "# 1. 텍스트 전처리 (컬럼명 + 설명 결합)\n",
    "texts = [f\"{desc}\" for col, desc in tuple_list]\n",
    "\n",
    "# 2. 텍스트 임베딩 (TF-IDF)\n",
    "vectorizer = TfidfVectorizer()\n",
    "X = vectorizer.fit_transform(texts)\n",
    "\n",
    "# 3. 코사인 유사도 계산 (참고용)\n",
    "cos_sim_matrix = cosine_similarity(X)\n",
    "cos_sim_df = pd.DataFrame(cos_sim_matrix, columns=[desc for _, desc in tuple_list], index=[desc for _, desc in tuple_list])\n",
    "print(\"코사인 유사도 행렬:\")\n",
    "print(cos_sim_df)\n",
    "\n",
    "# 4. K-Means Clustering\n",
    "num_clusters = 24  # 클러스터 개수\n",
    "kmeans = KMeans(n_clusters=num_clusters, random_state=42)\n",
    "kmeans.fit(X)\n",
    "\n",
    "# 5. 결과 정리\n",
    "clusters = kmeans.labels_\n",
    "result = pd.DataFrame({\"설명\": [desc for _, desc in tuple_list], \"클러스터\": clusters})\n",
    "print(\"\\n군집화 결과:\")\n",
    "print(result)\n",
    "\n",
    "# 6. 클러스터별 데이터 그룹화\n",
    "grouped = result.groupby(\"클러스터\")\n",
    "for cluster_id, group in grouped:\n",
    "    print(f\"\\n클러스터 {cluster_id}:\")\n",
    "    print(group)\n"
   ]
  },
  {
   "cell_type": "code",
   "execution_count": null,
   "id": "39a88046-536e-4a4b-9f90-0dc4731f8760",
   "metadata": {},
   "outputs": [],
   "source": [
    "list_data"
   ]
  },
  {
   "cell_type": "code",
   "execution_count": null,
   "id": "08eb6b25-c3b4-42a8-b230-894522cbed55",
   "metadata": {},
   "outputs": [],
   "source": [
    "result['클러스터'].value_counts()"
   ]
  },
  {
   "cell_type": "markdown",
   "id": "366d5d42-7362-4733-bfb2-d44d9c920f05",
   "metadata": {},
   "source": [
    "### 시각화"
   ]
  },
  {
   "cell_type": "code",
   "execution_count": null,
   "id": "82abe655-e699-40a2-a368-da5456a309fe",
   "metadata": {},
   "outputs": [],
   "source": [
    "import matplotlib.pyplot as plt\n",
    "from sklearn.manifold import TSNE\n",
    "\n",
    "# 1. t-SNE로 데이터 축소\n",
    "tsne = TSNE(n_components=2, random_state=42, perplexity=5, n_iter=1000)\n",
    "X_2d = tsne.fit_transform(X.toarray())\n",
    "\n",
    "# 2. 시각화\n",
    "plt.figure(figsize=(12, 8))\n",
    "for cluster_id in range(num_clusters):\n",
    "    cluster_points = X_2d[kmeans.labels_ == cluster_id]  # 클러스터에 속한 포인트\n",
    "    plt.scatter(\n",
    "        cluster_points[:, 0],\n",
    "        cluster_points[:, 1],\n",
    "        label=f\"클러스터 {cluster_id}\"\n",
    "    )\n",
    "\n",
    "# 3. 데이터 포인트에 설명 텍스트 추가\n",
    "for i, (x, y) in enumerate(X_2d):\n",
    "    plt.text(x, y, result[\"설명\"][i], fontsize=9, alpha=0.75)\n",
    "\n",
    "# 4. 그래프 꾸미기\n",
    "plt.title(\"K-Means 군집화 결과 시각화 (t-SNE)\", fontsize=14)\n",
    "plt.xlabel(\"축소된 차원 1\", fontsize=12)\n",
    "plt.ylabel(\"축소된 차원 2\", fontsize=12)\n",
    "plt.grid()\n",
    "plt.show()\n"
   ]
  },
  {
   "cell_type": "markdown",
   "id": "b1fc9a6d-9820-4f91-be09-83a400dc57a7",
   "metadata": {},
   "source": [
    "### TSNE"
   ]
  },
  {
   "cell_type": "code",
   "execution_count": null,
   "id": "184f207b-32ff-444c-98e0-63cd486b57af",
   "metadata": {},
   "outputs": [],
   "source": [
    "import matplotlib.pyplot as plt\n",
    "from sklearn.manifold import TSNE\n",
    "import matplotlib.font_manager as fm\n",
    "\n",
    "# 한글 폰트 설정\n",
    "# font_path = \"/usr/share/fonts/truetype/nanum/NanumGothic.ttf\"  # 예: Nanum Gothic 폰트\n",
    "# font_prop = fm.FontProperties(fname=font_path)\n",
    "# plt.rc('font', family=font_prop.get_name())  # Matplotlib의 기본 폰트 설정\n",
    "\n",
    "# T-SNE로 2차원 공간으로 축소\n",
    "tsne = TSNE(n_components=2, random_state=42, perplexity=5, n_iter=1000)\n",
    "X_2d = tsne.fit_transform(X.toarray())\n",
    "\n",
    "# 데이터 시각화\n",
    "plt.figure(figsize=(10, 6))\n",
    "for cluster_id in range(num_clusters):\n",
    "    cluster_points = X_2d[kmeans.labels_ == cluster_id]\n",
    "    plt.scatter(\n",
    "        cluster_points[:, 0], \n",
    "        cluster_points[:, 1], \n",
    "        label=f\"클러스터 {cluster_id}\"\n",
    "    )\n",
    "\n",
    "# 범례 위치 및 타이틀 설정\n",
    "plt.legend(loc='best', title='클러스터', fontsize=10)\n",
    "plt.title(\"컬럼명 군집화 결과 (T-SNE)\", fontsize=14)\n",
    "plt.xlabel(\"축소된 차원 1\", fontsize=12)\n",
    "plt.ylabel(\"축소된 차원 2\", fontsize=12)\n",
    "plt.grid()\n",
    "plt.show()\n"
   ]
  },
  {
   "cell_type": "code",
   "execution_count": null,
   "id": "19d3417e-609f-49bd-b8ea-d5a4d7cabb0f",
   "metadata": {},
   "outputs": [],
   "source": [
    "import seaborn as sns\n",
    "\n",
    "plt.figure(figsize=(10, 8))\n",
    "sns.heatmap(\n",
    "    cos_sim_df, \n",
    "    annot=True, \n",
    "    cmap=\"Blues\", \n",
    "    xticklabels=cos_sim_df.columns, \n",
    "    yticklabels=cos_sim_df.index\n",
    ")\n",
    "plt.title(\"코사인 유사도 히트맵\")\n",
    "plt.show()\n"
   ]
  },
  {
   "cell_type": "code",
   "execution_count": null,
   "id": "50bb0116-4b42-40e0-9c28-05835b7d95e1",
   "metadata": {},
   "outputs": [],
   "source": [
    "cluster_counts = result[\"클러스터\"].value_counts()\n",
    "\n",
    "plt.figure(figsize=(8, 5))\n",
    "cluster_counts.sort_index().plot(kind=\"bar\", color=\"skyblue\", alpha=0.8)\n",
    "plt.title(\"클러스터별 데이터 개수\")\n",
    "plt.xlabel(\"클러스터 번호\")\n",
    "plt.ylabel(\"데이터 개수\")\n",
    "plt.xticks(rotation=0)\n",
    "plt.grid(axis=\"y\")\n",
    "plt.show()\n"
   ]
  },
  {
   "cell_type": "markdown",
   "id": "8c5927e5-73ca-4968-815d-f6fbca9c568c",
   "metadata": {},
   "source": [
    "### 매칭"
   ]
  },
  {
   "cell_type": "code",
   "execution_count": null,
   "id": "03cc1c54-4e62-4712-b777-923131a008c1",
   "metadata": {},
   "outputs": [],
   "source": [
    "data_dict = {key: [] for key, _ in list_data}\n",
    "data_dict"
   ]
  }
 ],
 "metadata": {
  "kernelspec": {
   "display_name": "Python 3 (ipykernel)",
   "language": "python",
   "name": "python3"
  },
  "language_info": {
   "codemirror_mode": {
    "name": "ipython",
    "version": 3
   },
   "file_extension": ".py",
   "mimetype": "text/x-python",
   "name": "python",
   "nbconvert_exporter": "python",
   "pygments_lexer": "ipython3",
   "version": "3.10.12"
  }
 },
 "nbformat": 4,
 "nbformat_minor": 5
}
